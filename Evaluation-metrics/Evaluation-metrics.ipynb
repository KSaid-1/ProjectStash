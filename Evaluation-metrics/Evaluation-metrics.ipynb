{
 "cells": [
  {
   "cell_type": "code",
   "execution_count": 1,
   "id": "photographic-bankruptcy",
   "metadata": {},
   "outputs": [],
   "source": [
    "# import libraries\n",
    "import numpy as np\n",
    "import matplotlib.pyplot as plt\n",
    "import pandas as pd\n",
    "from sklearn import metrics\n",
    "from collections import Counter\n",
    "import seaborn as sns"
   ]
  },
  {
   "cell_type": "code",
   "execution_count": 2,
   "id": "concerned-motel",
   "metadata": {},
   "outputs": [],
   "source": [
    "def accuracy(y_true, y_pred):\n",
    "    '''\n",
    "    Function to calculate accuracy\n",
    "    Parameters: y_true - list of true values\n",
    "            y_pred - list of predicted values\n",
    "    Returns: accuracy score\n",
    "'''\n",
    "    correct_counter = sum(1 for yt, yp in zip(y_true, y_pred) if yt == yp)\n",
    "    return correct_counter / len(y_true)\n",
    "\n",
    "# Function to calculate true positive: if actual value is 1 and predicted value is 1\n",
    "def true_positive(y_true, y_pred):\n",
    "    tp = sum(1 for yt, yp in zip(y_true, y_pred) if yt == 1 and yp == 1)\n",
    "    return tp\n",
    "\n",
    "# Function to calculate true negative: if actual value is 0 and predicted value is 0\n",
    "def true_negative(y_true, y_pred):\n",
    "    tn = sum(1 for yt, yp in zip(y_true, y_pred) if yt == 0 and yp == 0)\n",
    "    return tn\n",
    "\n",
    "# Function to calculate false positive: if actual value is 0 and predicted value is 1\n",
    "def false_positive(y_true, y_pred):\n",
    "    fp = sum(1 for yt, yp in zip(y_true, y_pred) if yt == 0 and yp == 1)\n",
    "    return fp\n",
    "\n",
    "# Function to calculate false negative: if actual value is 1 and predicted value is 0\n",
    "def false_negative(y_true, y_pred):\n",
    "    fn = sum(1 for yt, yp in zip(y_true, y_pred) if yt == 1 and yp == 0)\n",
    "    return fn\n",
    "\n",
    "def accuracy_v2(y_true, y_pred):\n",
    "    \"\"\"\n",
    "    Calculate the accuracy score using TP, TN, FP, and FN.\n",
    "    \n",
    "    Parameters:\n",
    "    y_true (list): List of true labels\n",
    "    y_pred (list): List of predicted labels\n",
    "    \n",
    "    Returns:\n",
    "    float: Accuracy score\n",
    "    \"\"\"\n",
    "    tp = true_positive(y_true, y_pred)\n",
    "    tn = true_negative(y_true, y_pred)\n",
    "    fp = false_positive(y_true, y_pred)\n",
    "    fn = false_negative(y_true, y_pred)\n",
    "    \n",
    "    total = tp + tn + fp + fn\n",
    "    correct = tp + tn\n",
    "    \n",
    "    accuracy_score = correct / total if total > 0 else 0\n",
    "    \n",
    "    return accuracy_score"
   ]
  },
  {
   "cell_type": "code",
   "execution_count": 3,
   "id": "biological-blood",
   "metadata": {},
   "outputs": [
    {
     "name": "stdout",
     "output_type": "stream",
     "text": [
      "0.625\n",
      "0.625\n",
      "2\n",
      "3\n",
      "1\n",
      "2\n",
      "0.625\n"
     ]
    }
   ],
   "source": [
    "# Simple example to test the functions above vs sklearn\n",
    "l1 = [0,1,1,1,0,0,0,1]\n",
    "l2 = [0,1,0,1,0,1,0,0]\n",
    "print (metrics.accuracy_score(l1,l2))\n",
    "print (accuracy(l1,l2))\n",
    "print (true_positive(l1,l2))\n",
    "print (true_negative(l1,l2))\n",
    "print (false_positive(l1,l2))\n",
    "print (false_negative(l1,l2))\n",
    "print (accuracy_v2(l1,l2))"
   ]
  },
  {
   "cell_type": "code",
   "execution_count": 4,
   "id": "e3db35dd",
   "metadata": {
    "vscode": {
     "languageId": "markdown"
    }
   },
   "outputs": [],
   "source": [
    "#If your data is skewed, accuracy is not a good metric. Do you know why?\n",
    "\n",
    "#Let's say we have 1000 samples, 10 samples are positive and 990 samples are negative, and our #model predicted all samples as negative.\n",
    "\n",
    "#- **Accuracy** = correct predictions / total predictions\n",
    "#- **Accuracy** = 990 / 1000 = 99%\n",
    "\n",
    "#But our model is not able to predict any positive sample. That's why we need other metrics to #evaluate our model:\n",
    "\n",
    "#- Precision\n",
    "#- Recall\n",
    "#- F1 Score\n",
    "#- ROC Curve\n",
    "#- AUC Curve"
   ]
  },
  {
   "cell_type": "markdown",
   "id": "ca29d82b",
   "metadata": {},
   "source": [
    "If your data is skewed, accuracy is not a good metric. Do you know why?\n",
    "\n",
    "Let's say we have 1000 samples, 10 samples are positive and 990 samples are negative, and our model predicted all samples as negative.\n",
    "\n",
    "- **Accuracy** = correct predictions / total predictions\n",
    "- **Accuracy** = 990 / 1000 = 99%\n",
    "\n",
    "But our model is not able to predict any positive sample. That's why we need other metrics to evaluate our model:\n",
    "\n",
    "- Precision\n",
    "- Recall\n",
    "- F1 Score\n",
    "- ROC Curve\n",
    "- AUC Curve"
   ]
  },
  {
   "cell_type": "code",
   "execution_count": 5,
   "id": "derived-tanzania",
   "metadata": {},
   "outputs": [],
   "source": [
    "def precision(y_true, y_pred):\n",
    "    '''\n",
    "    Calculate the precision score.\n",
    "\n",
    "    Parameters:\n",
    "    y_true (list): List of true values.\n",
    "    y_pred (list): List of predicted values.\n",
    "\n",
    "    Returns:\n",
    "    precision (float): Precision score.\n",
    "\n",
    "    '''\n",
    "    tp = true_positive(y_true, y_pred)\n",
    "    fp = false_positive(y_true, y_pred)\n",
    "    precision = tp / (tp + fp)\n",
    "    return precision"
   ]
  },
  {
   "cell_type": "code",
   "execution_count": 6,
   "id": "backed-pierre",
   "metadata": {},
   "outputs": [
    {
     "name": "stdout",
     "output_type": "stream",
     "text": [
      "0.6666666666666666\n"
     ]
    }
   ],
   "source": [
    "print (precision(l1,l2))"
   ]
  },
  {
   "cell_type": "code",
   "execution_count": 7,
   "id": "popular-drawing",
   "metadata": {},
   "outputs": [],
   "source": [
    "def recall(y_true, y_pred):\n",
    "    '''\n",
    "    Calculate the recall score.\n",
    "\n",
    "    Parameters:\n",
    "    y_true (list): List of true values.\n",
    "    y_pred (list): List of predicted values.\n",
    "\n",
    "    Returns:\n",
    "    recall (float): Recall score.\n",
    "    '''\n",
    "    tp = true_positive(y_true, y_pred)\n",
    "    fn = false_negative(y_true, y_pred)\n",
    "    recall = tp / (tp + fn)\n",
    "    return recall"
   ]
  },
  {
   "cell_type": "code",
   "execution_count": 8,
   "id": "blond-detective",
   "metadata": {},
   "outputs": [
    {
     "name": "stdout",
     "output_type": "stream",
     "text": [
      "0.5\n"
     ]
    }
   ],
   "source": [
    "print (recall(l1,l2))"
   ]
  },
  {
   "cell_type": "code",
   "execution_count": 9,
   "id": "center-telephone",
   "metadata": {},
   "outputs": [
    {
     "data": {
      "image/png": "[encoded data removed]",
      "text/plain": [
       "<Figure size 1000x600 with 1 Axes>"
      ]
     },
     "metadata": {},
     "output_type": "display_data"
    }
   ],
   "source": [
    "# # Precision-Recall Curve\n",
    "\n",
    "#This cell calculates and plots the Precision-Recall curve for a binary classification problem. Here's what the code does:\n",
    "\n",
    "#1. Sets up true labels and predicted probabilities.\n",
    "#2. Defines a range of classification thresholds.\n",
    "#3. Calculates precision and recall for each threshold.\n",
    "#4. Plots the Precision-Recall curve.\n",
    "#5. Adds annotations to explain the trade-off between precision and recall.\n",
    "\n",
    "#The resulting plot helps visualize the model's performance across different classification thresholds, allowing you to choose an appropriate threshold based on your specific needs for precision vs. recall.\n",
    "\n",
    "# Define true labels and predicted probabilities\n",
    "y_true = [0, 0, 0, 1, 0, 0, 0, 0, 0, 0, 1, 0, 0, 0, 0, 0, 0, 0, 1, 0]\n",
    "y_pred = [0.02638412, 0.11114267, 0.31620708, 0.0490937, 0.0191491, \n",
    "          0.17554844, 0.15952202, 0.03819563, 0.11639273, 0.079377, \n",
    "          0.08584789, 0.39095342, 0.27259048, 0.03447096, 0.04644807,\n",
    "          0.03543574, 0.18521942, 0.05934905, 0.61977213, 0.33056815]\n",
    "\n",
    "# Define thresholds for classification\n",
    "thresholds = [0.0490937, 0.05934905, 0.079377, 0.08584789, 0.11114267, \n",
    "              0.11639273, 0.15952202, 0.17554844, 0.18521942, 0.27259048, \n",
    "              0.31620708, 0.33056815, 0.39095342, 0.61977213]\n",
    "\n",
    "# Initialize lists to store precision and recall values\n",
    "precisions = []\n",
    "recalls = []\n",
    "\n",
    "# Calculate precision and recall for each threshold\n",
    "for threshold in thresholds:\n",
    "    # Convert probabilities to binary predictions based on the threshold\n",
    "    temp_prediction = [1 if x >= threshold else 0 for x in y_pred]\n",
    "    \n",
    "    # Calculate precision and recall\n",
    "    p = precision(y_true, temp_prediction)\n",
    "    r = recall(y_true, temp_prediction)\n",
    "    \n",
    "    # Append results to lists\n",
    "    precisions.append(p)\n",
    "    recalls.append(r)\n",
    "\n",
    "# Plot the Precision-Recall curve\n",
    "plt.figure(figsize=(10, 6))\n",
    "plt.plot(recalls, precisions, marker='o')\n",
    "plt.xlabel('Recall', fontsize=15)\n",
    "plt.ylabel('Precision', fontsize=15)\n",
    "plt.title('Precision-Recall Curve', fontsize=18)\n",
    "plt.grid(True, linestyle='--', alpha=0.7)\n",
    "\n",
    "# Add annotations for better understanding\n",
    "plt.annotate('Higher precision,\\nLower recall', xy=(0.2, 0.8), xytext=(0.3, 0.9),\n",
    "             arrowprops=dict(facecolor='black', shrink=0.05))\n",
    "plt.annotate('Lower precision,\\nHigher recall', xy=(0.8, 0.2), xytext=(0.6, 0.1),\n",
    "             arrowprops=dict(facecolor='black', shrink=0.05))\n",
    "\n",
    "plt.show()"
   ]
  },
  {
   "cell_type": "code",
   "execution_count": 10,
   "id": "another-morris",
   "metadata": {},
   "outputs": [],
   "source": [
    "# Given the importance of precision and recall, we can combine them to get a single metric: F1 Score\n",
    "# F1 Score = 2 * (Precision * Recall) / (Precision + Recall)\n",
    "# F1 Score is the harmonic mean (https://en.wikipedia.org/wiki/Harmonic_mean) of precision and recall, which gives equal weight to both metrics.\n",
    "# you can work out the formula for F1 Score using TP, FP, FN from the definitions of precision and recall\n",
    "# F1 Score = 2TP / (2TP + FP + FN)\n",
    "def f1(y_true, y_pred):\n",
    "    '''\n",
    "    Calculate the F1 score.\n",
    "\n",
    "    Parameters:\n",
    "    y_true (list): List of true values.\n",
    "    y_pred (list): List of predicted values.\n",
    "\n",
    "    Returns:\n",
    "    f1 (float): F1 score.\n",
    "    '''\n",
    "    p = precision(y_true, y_pred)\n",
    "    r = recall(y_true, y_pred)\n",
    "    score = 2.0 * p * r / (p + r)\n",
    "    return score"
   ]
  },
  {
   "cell_type": "code",
   "execution_count": 11,
   "id": "demonstrated-hampshire",
   "metadata": {},
   "outputs": [],
   "source": [
    "y_true = [0, 0, 0, 1, 0, 0, 0, 0, 0, 0, 1, 0, 0, 0, 0, 0, 0, 0, 1, 0]\n",
    "y_pred = [0, 0, 1, 0, 0, 0, 1, 0, 0, 0, 1, 0, 0, 0, 0, 0, 0, 0, 1, 0]"
   ]
  },
  {
   "cell_type": "code",
   "execution_count": 12,
   "id": "grave-adjustment",
   "metadata": {},
   "outputs": [
    {
     "name": "stdout",
     "output_type": "stream",
     "text": [
      "0.5714285714285715\n",
      "0.5714285714285714\n"
     ]
    }
   ],
   "source": [
    "print (f1(y_true, y_pred))\n",
    "# sklearn also has a built-in function to calculate F1 Score\n",
    "print (metrics.f1_score(y_true, y_pred))"
   ]
  },
  {
   "cell_type": "code",
   "execution_count": 13,
   "id": "favorite-point",
   "metadata": {},
   "outputs": [],
   "source": [
    "#True Positive Rate (TPR) or recall is also known as sensitivity\n",
    "def tpr(y_true, y_pred):\n",
    "    return recall(y_true, y_pred)"
   ]
  },
  {
   "cell_type": "code",
   "execution_count": 14,
   "id": "individual-thumbnail",
   "metadata": {},
   "outputs": [],
   "source": [
    "#False positive rate And 1 - FPR is known as specificity or True Negative Rate or TNR\n",
    "def fpr(y_true, y_pred):\n",
    "    fp = false_positive(y_true, y_pred)\n",
    "    tn = true_negative(y_true, y_pred)\n",
    "    return fp / (tn + fp)"
   ]
  },
  {
   "cell_type": "code",
   "execution_count": 15,
   "id": "departmental-virgin",
   "metadata": {},
   "outputs": [
    {
     "name": "stdout",
     "output_type": "stream",
     "text": [
      "Lengths: y_true=15, y_pred=15, thresholds=13\n",
      "Threshold: 0.00, TPR: 1.0000, FPR: 1.0000\n",
      "Threshold: 0.10, TPR: 1.0000, FPR: 0.9000\n",
      "Threshold: 0.20, TPR: 1.0000, FPR: 0.7000\n",
      "Threshold: 0.30, TPR: 0.8000, FPR: 0.6000\n",
      "Threshold: 0.40, TPR: 0.8000, FPR: 0.3000\n",
      "Threshold: 0.50, TPR: 0.8000, FPR: 0.3000\n",
      "Threshold: 0.60, TPR: 0.8000, FPR: 0.2000\n",
      "Threshold: 0.70, TPR: 0.6000, FPR: 0.1000\n",
      "Threshold: 0.80, TPR: 0.6000, FPR: 0.1000\n",
      "Threshold: 0.85, TPR: 0.4000, FPR: 0.1000\n",
      "Threshold: 0.90, TPR: 0.4000, FPR: 0.0000\n",
      "Threshold: 0.99, TPR: 0.2000, FPR: 0.0000\n",
      "Threshold: 1.00, TPR: 0.0000, FPR: 0.0000\n"
     ]
    }
   ],
   "source": [
    "# Initialize lists to store True Positive Rate (TPR) and False Positive Rate (FPR)\n",
    "tpr_list, fpr_list = [], []\n",
    "\n",
    "# Define true labels and predicted probabilities\n",
    "y_true = [0, 0, 0, 0, 1, 0, 1, 0, 0, 1, 0, 1, 0, 0, 1]\n",
    "y_pred = [0.1, 0.3, 0.2, 0.6, 0.8, 0.05, 0.9, 0.5, 0.3, 0.66, 0.3, 0.2, 0.85, 0.15, 0.99]\n",
    "\n",
    "# Define thresholds for ROC curve\n",
    "thresholds = [0, 0.1, 0.2, 0.3, 0.4, 0.5, 0.6, 0.7, 0.8, 0.85, 0.9, 0.99, 1.0]\n",
    "\n",
    "# Print lengths of input data and thresholds for verification\n",
    "print(f\"Lengths: y_true={len(y_true)}, y_pred={len(y_pred)}, thresholds={len(thresholds)}\")\n",
    "\n",
    "# Calculate TPR and FPR for each threshold\n",
    "for thresh in thresholds:\n",
    "    # Convert probabilities to binary predictions based on threshold\n",
    "    temp_pred = [1 if x >= thresh else 0 for x in y_pred]\n",
    "    \n",
    "    # Calculate TPR and FPR for current threshold\n",
    "    temp_tpr = tpr(y_true, temp_pred)\n",
    "    temp_fpr = fpr(y_true, temp_pred)\n",
    "    \n",
    "    # Append results to lists\n",
    "    tpr_list.append(temp_tpr)\n",
    "    fpr_list.append(temp_fpr)\n",
    "    \n",
    "    # Print results for each threshold\n",
    "    print(f\"Threshold: {thresh:.2f}, TPR: {temp_tpr:.4f}, FPR: {temp_fpr:.4f}\")"
   ]
  },
  {
   "cell_type": "code",
   "execution_count": 16,
   "id": "skilled-ensemble",
   "metadata": {},
   "outputs": [
    {
     "data": {
      "image/png": "[encoded data removed]",
      "text/plain": [
       "<Figure size 640x480 with 1 Axes>"
      ]
     },
     "metadata": {},
     "output_type": "display_data"
    }
   ],
   "source": [
    "plt.fill_between(fpr_list,tpr_list, alpha=0.4)\n",
    "plt.plot(fpr_list, tpr_list, lw=3)\n",
    "plt.title(\"Receiver Operating Characteristic (ROC) curve\")\n",
    "plt.xlim(0,1)\n",
    "plt.ylim(0,1)\n",
    "plt.xlabel(\"FPR\")\n",
    "plt.ylabel(\"TPR\")\n",
    "plt.show()"
   ]
  },
  {
   "cell_type": "code",
   "execution_count": 17,
   "id": "angry-childhood",
   "metadata": {},
   "outputs": [
    {
     "name": "stdout",
     "output_type": "stream",
     "text": [
      "0.8300000000000001\n"
     ]
    }
   ],
   "source": [
    "# sklearn also has a built-in function to calculate AUC\n",
    "print (metrics.roc_auc_score(y_true, y_pred))"
   ]
  },
  {
   "cell_type": "code",
   "execution_count": 18,
   "id": "necessary-fashion",
   "metadata": {},
   "outputs": [
    {
     "name": "stdout",
     "output_type": "stream",
     "text": [
      "0 5 10\n",
      "0.1 5 9\n",
      "0.2 5 7\n",
      "0.3 4 6\n",
      "0.4 4 3\n",
      "0.5 4 3\n",
      "0.6 4 2\n",
      "0.7 3 1\n",
      "0.8 3 1\n",
      "0.85 2 1\n",
      "0.9 2 0\n",
      "0.99 1 0\n",
      "1.0 0 0\n"
     ]
    }
   ],
   "source": [
    "tp_list = []; fp_list = []\n",
    "y_true = [0, 0, 0, 0, 1, 0, 1, 0, 0, 1, 0, 1, 0, 0, 1]\n",
    "y_pred = [0.1, 0.3, 0.2, 0.6, 0.8, 0.05, 0.9, 0.5, 0.3, 0.66, 0.3, 0.2, 0.85, 0.15, 0.99]\n",
    "thresholds = [0, 0.1, 0.2, 0.3, 0.4, 0.5, 0.6, 0.7, 0.8, 0.85, 0.9, 0.99, 1.0]\n",
    "for thresh in thresholds:\n",
    "    temp_pred = [1 if x >= thresh else 0 for x in y_pred]\n",
    "    temp_tp = true_positive(y_true, temp_pred)\n",
    "    temp_fp = false_positive(y_true, temp_pred)\n",
    "    tp_list.append(temp_tp)\n",
    "    fp_list.append(temp_fp)\n",
    "    print (thresh,temp_tp,temp_fp)"
   ]
  },
  {
   "cell_type": "code",
   "execution_count": 19,
   "id": "fantastic-framework",
   "metadata": {},
   "outputs": [],
   "source": [
    "# function to calculate log loss\n",
    "# log loss is a measure of how well a binary classification model is predicting the correct class.\n",
    "# It is defined as the negative average of the log of the predicted probabilities for the true class.\n",
    "# Closer to zero log loss is better\n",
    "# log loss penalizes confident incorrect classifications more than confident correct classifications\n",
    "def log_loss(y_true, y_proba):\n",
    "    '''\n",
    "    Calculate the log loss.\n",
    "\n",
    "    Parameters:\n",
    "    y_true (list): List of true values.\n",
    "    y_proba (list): List of predicted probabilities.\n",
    "\n",
    "    Returns:\n",
    "    log_loss (float): Log loss.\n",
    "    '''\n",
    "    epsilon = 1e-15\n",
    "    loss = []\n",
    "    for yt, yp in zip(y_true, y_proba):\n",
    "        yp = np.clip(yp, epsilon, 1 - epsilon) # You don't need this in the below example only if you have 0 or 1 \n",
    "        temp_loss = - 1.0 * (yt * np.log(yp) + (1-yt) *np.log(1-yp)) # remember this is ln not log10\n",
    "        loss.append(temp_loss)\n",
    "        #print (temp_loss)\n",
    "    return np.mean(loss)"
   ]
  },
  {
   "cell_type": "code",
   "execution_count": 20,
   "id": "published-batman",
   "metadata": {},
   "outputs": [
    {
     "data": {
      "text/plain": [
       "0.49882711861432294"
      ]
     },
     "execution_count": 20,
     "metadata": {},
     "output_type": "execute_result"
    }
   ],
   "source": [
    "y_true = [0, 0, 0, 0, 1, 0, 1, 0, 0, 1, 0, 1, 0, 0, 1]\n",
    "y_proba = [0.1, 0.3, 0.2, 0.6, 0.8, 0.05, 0.9, 0.5, 0.3, 0.66, 0.3, 0.2, 0.85, 0.15, 0.99]\n",
    "log_loss(y_true, y_proba)"
   ]
  },
  {
   "cell_type": "code",
   "execution_count": 21,
   "id": "mexican-fever",
   "metadata": {},
   "outputs": [
    {
     "name": "stdout",
     "output_type": "stream",
     "text": [
      "0.49882711861432294\n"
     ]
    }
   ],
   "source": [
    "# sklearn also has a built-in function to calculate log loss\n",
    "print (metrics.log_loss(y_true, y_proba))"
   ]
  },
  {
   "cell_type": "code",
   "execution_count": 22,
   "id": "frozen-shuttle",
   "metadata": {},
   "outputs": [
    {
     "data": {
      "text/plain": [
       "0.6733445532637656"
      ]
     },
     "execution_count": 22,
     "metadata": {},
     "output_type": "execute_result"
    }
   ],
   "source": [
    "log_loss([1],[0.51])"
   ]
  },
  {
   "cell_type": "code",
   "execution_count": 23,
   "id": "motivated-austria",
   "metadata": {},
   "outputs": [
    {
     "data": {
      "text/plain": [
       "2.302585092994046"
      ]
     },
     "execution_count": 23,
     "metadata": {},
     "output_type": "execute_result"
    }
   ],
   "source": [
    "log_loss([0],[0.9])"
   ]
  },
  {
   "cell_type": "code",
   "execution_count": 24,
   "id": "fixed-husband",
   "metadata": {},
   "outputs": [
    {
     "data": {
      "text/plain": [
       "0.0010005003335835344"
      ]
     },
     "execution_count": 24,
     "metadata": {},
     "output_type": "execute_result"
    }
   ],
   "source": [
    "log_loss([1],[0.999])"
   ]
  },
  {
   "cell_type": "code",
   "execution_count": 25,
   "id": "difficult-harmony",
   "metadata": {},
   "outputs": [],
   "source": [
    "def macro_precision(y_true, y_pred):\n",
    "    '''\n",
    "    Calculate the macro precision score.\n",
    "\n",
    "    Parameters:\n",
    "    y_true (list): List of true values.\n",
    "    y_pred (list): List of predicted values.\n",
    "\n",
    "    Returns:\n",
    "    precision (float): Macro precision score.\n",
    "    '''\n",
    "    classes = np.unique(y_true)\n",
    "    precisions = []\n",
    "\n",
    "    for class_ in classes:\n",
    "        true_positives = np.sum((np.array(y_true) == class_) & (np.array(y_pred) == class_))\n",
    "        predicted_positives = np.sum(np.array(y_pred) == class_)\n",
    "        \n",
    "        if predicted_positives > 0:\n",
    "            precisions.append(true_positives / predicted_positives)\n",
    "        else:\n",
    "            precisions.append(0.0)\n",
    "\n",
    "    return np.mean(precisions)"
   ]
  },
  {
   "cell_type": "code",
   "execution_count": 26,
   "id": "extended-transfer",
   "metadata": {},
   "outputs": [],
   "source": [
    "def micro_precision(y_true, y_pred):\n",
    "    '''\n",
    "    Calculate the micro precision score.\n",
    "\n",
    "    Parameters:\n",
    "    y_true (list): List of true values.\n",
    "    y_pred (list): List of predicted values.\n",
    "\n",
    "    Returns:\n",
    "    precision (float): Micro precision score.\n",
    "    '''\n",
    "    y_true = np.array(y_true)\n",
    "    y_pred = np.array(y_pred)\n",
    "    \n",
    "    true_positives = np.sum(y_true == y_pred)\n",
    "    total_predictions = len(y_pred)\n",
    "    \n",
    "    return true_positives / total_predictions if total_predictions > 0 else 0.0"
   ]
  },
  {
   "cell_type": "code",
   "execution_count": 27,
   "id": "industrial-amsterdam",
   "metadata": {},
   "outputs": [],
   "source": [
    "def weighted_precision(y_true, y_pred):\n",
    "    '''\n",
    "    Calculate the weighted precision score.\n",
    "\n",
    "    Parameters:\n",
    "    y_true (list): List of true values.\n",
    "    y_pred (list): List of predicted values.\n",
    "\n",
    "    Returns:\n",
    "    precision (float): Weighted precision score.\n",
    "    '''\n",
    "    y_true = np.array(y_true)\n",
    "    y_pred = np.array(y_pred)\n",
    "    \n",
    "    classes, class_counts = np.unique(y_true, return_counts=True)\n",
    "    total_samples = len(y_true)\n",
    "    \n",
    "    weighted_sum = 0\n",
    "    for class_, count in zip(classes, class_counts):\n",
    "        true_positives = np.sum((y_true == class_) & (y_pred == class_))\n",
    "        predicted_positives = np.sum(y_pred == class_)\n",
    "        \n",
    "        if predicted_positives > 0:\n",
    "            class_precision = true_positives / predicted_positives\n",
    "        else:\n",
    "            class_precision = 0.0\n",
    "        \n",
    "        weighted_sum += count * class_precision\n",
    "    \n",
    "    return weighted_sum / total_samples"
   ]
  },
  {
   "cell_type": "code",
   "execution_count": 28,
   "id": "specialized-software",
   "metadata": {},
   "outputs": [],
   "source": [
    "y_true = [0, 1, 2, 0, 1, 2, 0, 2, 2]\n",
    "y_pred = [0, 2, 1, 0, 2, 1, 0, 0, 2]"
   ]
  },
  {
   "cell_type": "code",
   "execution_count": 29,
   "id": "prospective-damage",
   "metadata": {},
   "outputs": [
    {
     "data": {
      "text/plain": [
       "0.3611111111111111"
      ]
     },
     "execution_count": 29,
     "metadata": {},
     "output_type": "execute_result"
    }
   ],
   "source": [
    "macro_precision(y_true, y_pred)"
   ]
  },
  {
   "cell_type": "code",
   "execution_count": 30,
   "id": "abstract-communist",
   "metadata": {},
   "outputs": [
    {
     "name": "stdout",
     "output_type": "stream",
     "text": [
      "0.3611111111111111\n"
     ]
    }
   ],
   "source": [
    "# sklearn also has a built-in function to calculate precision\n",
    "print (metrics.precision_score(y_true, y_pred, average=\"macro\"))"
   ]
  },
  {
   "cell_type": "code",
   "execution_count": 31,
   "id": "surgical-charge",
   "metadata": {},
   "outputs": [
    {
     "data": {
      "text/plain": [
       "0.4444444444444444"
      ]
     },
     "execution_count": 31,
     "metadata": {},
     "output_type": "execute_result"
    }
   ],
   "source": [
    "micro_precision(y_true, y_pred)"
   ]
  },
  {
   "cell_type": "code",
   "execution_count": 32,
   "id": "dated-northwest",
   "metadata": {},
   "outputs": [
    {
     "name": "stdout",
     "output_type": "stream",
     "text": [
      "0.4444444444444444\n"
     ]
    }
   ],
   "source": [
    "# sklearn also has a built-in function to calculate precision\n",
    "print (metrics.precision_score(y_true, y_pred, average=\"micro\"))"
   ]
  },
  {
   "cell_type": "code",
   "execution_count": 33,
   "id": "parallel-productivity",
   "metadata": {},
   "outputs": [
    {
     "data": {
      "text/plain": [
       "0.39814814814814814"
      ]
     },
     "execution_count": 33,
     "metadata": {},
     "output_type": "execute_result"
    }
   ],
   "source": [
    "weighted_precision(y_true, y_pred)"
   ]
  },
  {
   "cell_type": "code",
   "execution_count": 34,
   "id": "measured-material",
   "metadata": {},
   "outputs": [
    {
     "name": "stdout",
     "output_type": "stream",
     "text": [
      "0.39814814814814814\n"
     ]
    }
   ],
   "source": [
    "# sklearn also has a built-in function to calculate precision\n",
    "print (metrics.precision_score(y_true, y_pred, average=\"weighted\"))"
   ]
  },
  {
   "cell_type": "code",
   "execution_count": 35,
   "id": "ruled-representation",
   "metadata": {},
   "outputs": [],
   "source": [
    "y_true = [0, 1, 2, 0, 1, 2, 0, 2, 2]\n",
    "y_pred = [0, 2, 1, 0, 2, 1, 0, 0, 2]\n",
    "# sklearn also has a built-in function to calculate confusion matrix\n",
    "cm = metrics.confusion_matrix(y_true, y_pred)\n",
    "cm = cm.T"
   ]
  },
  {
   "cell_type": "code",
   "execution_count": 36,
   "id": "historic-elder",
   "metadata": {},
   "outputs": [
    {
     "data": {
      "image/png": "[encoded data removed]",
      "text/plain": [
       "<Figure size 1200x1000 with 2 Axes>"
      ]
     },
     "metadata": {},
     "output_type": "display_data"
    }
   ],
   "source": [
    "plt.figure(figsize=(12, 10))\n",
    "\n",
    "# Use 'viridis' colormap for a more colorful display\n",
    "cmap = plt.cm.viridis\n",
    "\n",
    "# Normalize the confusion matrix for better color scaling\n",
    "cm_norm = cm.astype('float') / cm.sum(axis=1)[:, np.newaxis]\n",
    "\n",
    "# Create the heatmap\n",
    "sns.heatmap(cm_norm, annot=cm, fmt='d', cmap=cmap, cbar=True,\n",
    "            square=True, linewidths=0.5, linecolor='white')\n",
    "\n",
    "# Improve the colorbar\n",
    "cbar = plt.gcf().axes[-1]\n",
    "cbar.tick_params(labelsize=14)\n",
    "cbar.set_ylabel('Normalized Frequency', rotation=270, labelpad=20, fontsize=16)\n",
    "\n",
    "# Set labels and title\n",
    "plt.xlabel('Actual Labels', fontsize=20)\n",
    "plt.ylabel('Predicted Labels', fontsize=20)\n",
    "plt.title('Confusion Matrix', fontsize=24, pad=20)\n",
    "\n",
    "# Adjust tick label size\n",
    "plt.tick_params(axis='both', which='major', labelsize=16)\n",
    "\n",
    "# Tight layout to prevent clipping\n",
    "plt.tight_layout()\n",
    "\n",
    "plt.show()"
   ]
  },
  {
   "cell_type": "markdown",
   "id": "dfb74bdc",
   "metadata": {},
   "source": [
    "Now we are moving to another type of evaluation metrics for classification problems:\n",
    "\n",
    "- Precision@k\n",
    "- Recall@k\n",
    "- F1@k\n",
    "- MAP@k\n",
    "- MPR@k\n",
    "\n",
    "These metrics are used for a multi-label classification problem.\n",
    "\n",
    "- Precision@k is the percentage of correctly predicted labels out of the top k predictions.\n",
    "- Recall@k is the percentage of correctly predicted labels out of all the actual labels.\n",
    "- F1@k is the harmonic mean of precision@k and recall@k.\n",
    "- MAP@k is the mean average precision@k.\n",
    "- MPR@k is the mean percentage of correct labels.\n"
   ]
  },
  {
   "cell_type": "code",
   "execution_count": 37,
   "id": "dimensional-picnic",
   "metadata": {},
   "outputs": [],
   "source": [
    "def pk(y_true, y_pred, k):\n",
    "    '''\n",
    "    Calculate the precision@k score.\n",
    "\n",
    "    Parameters:\n",
    "    y_true (list): List of true values.\n",
    "    y_pred (list): List of predicted values.\n",
    "    k (int): The number of top predictions to consider.\n",
    "\n",
    "    Returns:\n",
    "    precision@k (float): Precision@k score.\n",
    "    '''\n",
    "    if k == 0:\n",
    "        return 0\n",
    "    \n",
    "    true_set = set(y_true)\n",
    "    correct_predictions = sum(1 for item in y_pred[:k] if item in true_set)\n",
    "    return correct_predictions / k"
   ]
  },
  {
   "cell_type": "code",
   "execution_count": 38,
   "id": "66f26925",
   "metadata": {},
   "outputs": [
    {
     "name": "stdout",
     "output_type": "stream",
     "text": [
      "Precision@1: 1.00\n",
      "Precision@2: 0.50\n",
      "Precision@3: 0.67\n",
      "Precision@4: 0.50\n",
      "Precision@5: 0.60\n"
     ]
    }
   ],
   "source": [
    "#Simple example to test the pk function\n",
    "\n",
    "# True genres for a movie\n",
    "true_genres = ['Action', 'Sci-Fi', 'Thriller']\n",
    "\n",
    "# Predicted genres (in order of confidence)\n",
    "predicted_genres = ['Action', 'Comedy', 'Sci-Fi', 'Romance', 'Thriller']\n",
    "\n",
    "# Calculate precision at different k values\n",
    "for k in [1, 2, 3, 4, 5]:\n",
    "    p_at_k = pk(true_genres, predicted_genres, k)\n",
    "    print(f\"Precision@{k}: {p_at_k:.2f}\")"
   ]
  },
  {
   "cell_type": "markdown",
   "id": "e60d81b7",
   "metadata": {},
   "source": [
    "\n",
    "\n",
    "Explanation:\n",
    "- At k=1, we only look at the top prediction ('Action'). It's correct, so precision@1 = 1/1 = 1.00\n",
    "- k=2, we look at top 2 ('Action', 'Comedy'). Only 'Action' is correct, so precision@2 = 1/2 = 0.50\n",
    "- At k=3, we consider ('Action', 'Comedy', 'Sci-Fi'). Two are correct, so precision@3 = 2/3 ≈ 0.67\n",
    "- k=4, we have ('Action', 'Comedy', 'Sci-Fi', 'Romance'). Still only two correct, so precision@4 = 2/4 = 0.50\n",
    "- k=5, we consider all predictions. Three are correct, so precision@5 = 3/5 = 0.60\n",
    "\n",
    "This example shows how precision@k changes as we consider more predictions. It helps evaluate how well the model's top-k predictions align with the true labels, which is particularly useful in recommendation systems or when you're interested in the most confident predictions."
   ]
  },
  {
   "cell_type": "code",
   "execution_count": 39,
   "id": "after-remark",
   "metadata": {},
   "outputs": [],
   "source": [
    "# Average Precision@k: very simple --> if you have to calculate precision@k at k = 3. \n",
    "# you calculate precision@1, precision@2, precision@3 and then take average\n",
    "def apk(y_true, y_pred, k):\n",
    "    '''\n",
    "    Calculate the average precision@k score.\n",
    "\n",
    "    Parameters:\n",
    "    y_true (list): List of true values.\n",
    "    y_pred (list): List of predicted values.\n",
    "    k (int): The number of top predictions to consider.\n",
    "\n",
    "    Returns:\n",
    "    average precision@k (float): Average precision@k score.\n",
    "    '''\n",
    "    pk_values = []\n",
    "    for i in range(1, k+1):\n",
    "        pk_values.append(pk(y_true, y_pred, i))\n",
    "    if len(pk_values) == 0:\n",
    "        return 0\n",
    "    return sum(pk_values)/ len(pk_values)"
   ]
  },
  {
   "cell_type": "code",
   "execution_count": 51,
   "id": "suburban-blogger",
   "metadata": {},
   "outputs": [],
   "source": [
    "#Simple example to test the apk function\n",
    "y_true = [[1,2,3],[0,2],[1],[2,3],[1,0],[]]\n",
    "y_pred = [[0,1,2],[1],[0,2,3],[2,3,4,0],[0,1,2],[0]]"
   ]
  },
  {
   "cell_type": "code",
   "execution_count": 52,
   "id": "normal-tuning",
   "metadata": {},
   "outputs": [
    {
     "name": "stdout",
     "output_type": "stream",
     "text": [
      "Example 1:\n",
      "  y_true=[1, 2, 3], y_pred=[0, 1, 2], AP@1=0.0000\n",
      "  y_true=[1, 2, 3], y_pred=[0, 1, 2], AP@2=0.2500\n",
      "  y_true=[1, 2, 3], y_pred=[0, 1, 2], AP@3=0.3889\n",
      "\n",
      "Example 2:\n",
      "  y_true=[0, 2], y_pred=[1], AP@1=0.0000\n",
      "  y_true=[0, 2], y_pred=[1], AP@2=0.0000\n",
      "  y_true=[0, 2], y_pred=[1], AP@3=0.0000\n",
      "\n",
      "Example 3:\n",
      "  y_true=[1], y_pred=[0, 2, 3], AP@1=0.0000\n",
      "  y_true=[1], y_pred=[0, 2, 3], AP@2=0.0000\n",
      "  y_true=[1], y_pred=[0, 2, 3], AP@3=0.0000\n",
      "\n",
      "Example 4:\n",
      "  y_true=[2, 3], y_pred=[2, 3, 4, 0], AP@1=1.0000\n",
      "  y_true=[2, 3], y_pred=[2, 3, 4, 0], AP@2=1.0000\n",
      "  y_true=[2, 3], y_pred=[2, 3, 4, 0], AP@3=0.8889\n",
      "\n",
      "Example 5:\n",
      "  y_true=[1, 0], y_pred=[0, 1, 2], AP@1=1.0000\n",
      "  y_true=[1, 0], y_pred=[0, 1, 2], AP@2=1.0000\n",
      "  y_true=[1, 0], y_pred=[0, 1, 2], AP@3=0.8889\n",
      "\n",
      "Example 6:\n",
      "  y_true=[], y_pred=[0], AP@1=0.0000\n",
      "  y_true=[], y_pred=[0], AP@2=0.0000\n",
      "  y_true=[], y_pred=[0], AP@3=0.0000\n",
      "\n"
     ]
    }
   ],
   "source": [
    "# Iterate through each pair of true and predicted values\n",
    "for i, (true, pred) in enumerate(zip(y_true, y_pred)):\n",
    "    print(f\"Example {i + 1}:\")\n",
    "    # Calculate and print AP@k for k=1, 2, and 3\n",
    "    for k in range(1, 4):\n",
    "        ap_k = apk(true, pred, k=k)\n",
    "        print(f\"  y_true={true}, y_pred={pred}, AP@{k}={ap_k:.4f}\")\n",
    "    print()  # Add a blank line between examples for better readability"
   ]
  },
  {
   "cell_type": "code",
   "execution_count": 53,
   "id": "exciting-accuracy",
   "metadata": {},
   "outputs": [],
   "source": [
    "def mapk(y_true, y_pred, k):\n",
    "    '''\n",
    "    Calculate the mean average precision@k score.\n",
    "\n",
    "    Parameters:\n",
    "    y_true (list): List of true values.\n",
    "    y_pred (list): List of predicted values.\n",
    "    k (int): The number of top predictions to consider.\n",
    "\n",
    "    Returns:\n",
    "    mean average precision@k (float): Mean average precision@k score.\n",
    "    '''\n",
    "    apk_values = []\n",
    "    for i in range(len(y_true)):\n",
    "        apk_values.append(apk(y_true[i], y_pred[i], k=k))\n",
    "    return sum(apk_values) / len(apk_values)"
   ]
  },
  {
   "cell_type": "code",
   "execution_count": 54,
   "id": "defined-ceramic",
   "metadata": {},
   "outputs": [
    {
     "data": {
      "text/plain": [
       "0.3333333333333333"
      ]
     },
     "execution_count": 54,
     "metadata": {},
     "output_type": "execute_result"
    }
   ],
   "source": [
    "mapk(y_true, y_pred, k=1)"
   ]
  },
  {
   "cell_type": "code",
   "execution_count": 55,
   "id": "original-accident",
   "metadata": {},
   "outputs": [
    {
     "data": {
      "text/plain": [
       "0.375"
      ]
     },
     "execution_count": 55,
     "metadata": {},
     "output_type": "execute_result"
    }
   ],
   "source": [
    "mapk(y_true, y_pred, k=2)"
   ]
  },
  {
   "cell_type": "code",
   "execution_count": 56,
   "id": "lyric-guest",
   "metadata": {},
   "outputs": [
    {
     "data": {
      "text/plain": [
       "0.3611111111111111"
      ]
     },
     "execution_count": 56,
     "metadata": {},
     "output_type": "execute_result"
    }
   ],
   "source": [
    "mapk(y_true, y_pred, k=3)"
   ]
  },
  {
   "cell_type": "code",
   "execution_count": 57,
   "id": "intensive-trance",
   "metadata": {},
   "outputs": [
    {
     "data": {
      "text/plain": [
       "0.3333333333333333"
      ]
     },
     "execution_count": 57,
     "metadata": {},
     "output_type": "execute_result"
    }
   ],
   "source": [
    "mapk(y_true, y_pred, k=4)"
   ]
  },
  {
   "cell_type": "markdown",
   "id": "genetic-pontiac",
   "metadata": {},
   "source": [
    "# Evalution-metrics in regression\n",
    "Error = True Value - Predicted Value\n",
    "\n",
    "Absolute Error = |True Value - Predicted Value|"
   ]
  },
  {
   "cell_type": "code",
   "execution_count": 47,
   "id": "waiting-dressing",
   "metadata": {},
   "outputs": [],
   "source": [
    "def mean_absolute_error(y_true, y_pred):\n",
    "    '''\n",
    "    Calculate the mean absolute error.\n",
    "\n",
    "    Parameters:\n",
    "    y_true (list): List of true values.\n",
    "    y_pred (list): List of predicted values.\n",
    "\n",
    "    Returns:\n",
    "    mean absolute error (float): Mean absolute error.\n",
    "    '''\n",
    "    error = 0\n",
    "    for yt, yp in zip(y_true, y_pred):\n",
    "        error +=np.abs(yt - yp)\n",
    "    return error / len(y_true)"
   ]
  },
  {
   "cell_type": "code",
   "execution_count": 48,
   "id": "supreme-malta",
   "metadata": {},
   "outputs": [],
   "source": [
    "def mean_squared_error(y_true, y_pred):\n",
    "    error = 0\n",
    "    for yt, yp in zip(y_true, y_pred):\n",
    "        error += (yt - yp)**2\n",
    "    return error / len(y_true)"
   ]
  },
  {
   "cell_type": "code",
   "execution_count": 49,
   "id": "prescription-crack",
   "metadata": {},
   "outputs": [],
   "source": [
    "def mean_squared_log_error(y_true, y_pred):\n",
    "    error = 0\n",
    "    for yt, yp in zip(y_true, y_pred):\n",
    "        error += (np.log(1+yt) - np.log(1+yp))**2\n",
    "    return error / len(y_true)"
   ]
  },
  {
   "cell_type": "code",
   "execution_count": 50,
   "id": "ideal-jerusalem",
   "metadata": {},
   "outputs": [],
   "source": [
    "def r2(y_true, y_pred):\n",
    "    mean_true_value = np.mean(y_true)\n",
    "    numerator = 0 \n",
    "    denominator = 0\n",
    "    for yt, yp in zip(y_true, y_pred):\n",
    "        numerator += (yt - yp) **2\n",
    "        denominator += (yt - mean_true_value) **2\n",
    "    ratio = numrtator / denomenator\n",
    "    return 1 - ratio"
   ]
  }
 ],
 "metadata": {
  "kernelspec": {
   "display_name": "Python 3",
   "language": "python",
   "name": "python3"
  },
  "language_info": {
   "codemirror_mode": {
    "name": "ipython",
    "version": 3
   },
   "file_extension": ".py",
   "mimetype": "text/x-python",
   "name": "python",
   "nbconvert_exporter": "python",
   "pygments_lexer": "ipython3",
   "version": "3.12.4"
  }
 },
 "nbformat": 4,
 "nbformat_minor": 5
}
